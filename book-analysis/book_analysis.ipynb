{
 "cells": [
  {
   "cell_type": "code",
   "execution_count": 1,
   "id": "f1b6d653-a362-405f-9025-3c058bf0256d",
   "metadata": {
    "scrolled": true
   },
   "outputs": [
    {
     "name": "stdout",
     "output_type": "stream",
     "text": [
      "Requirement already satisfied: spacy in /opt/conda/lib/python3.11/site-packages (3.8.7)\n",
      "Requirement already satisfied: spacy-legacy<3.1.0,>=3.0.11 in /opt/conda/lib/python3.11/site-packages (from spacy) (3.0.12)\n",
      "Requirement already satisfied: spacy-loggers<2.0.0,>=1.0.0 in /opt/conda/lib/python3.11/site-packages (from spacy) (1.0.5)\n",
      "Requirement already satisfied: murmurhash<1.1.0,>=0.28.0 in /opt/conda/lib/python3.11/site-packages (from spacy) (1.0.13)\n",
      "Requirement already satisfied: cymem<2.1.0,>=2.0.2 in /opt/conda/lib/python3.11/site-packages (from spacy) (2.0.11)\n",
      "Requirement already satisfied: preshed<3.1.0,>=3.0.2 in /opt/conda/lib/python3.11/site-packages (from spacy) (3.0.10)\n",
      "Requirement already satisfied: thinc<8.4.0,>=8.3.4 in /opt/conda/lib/python3.11/site-packages (from spacy) (8.3.6)\n",
      "Requirement already satisfied: wasabi<1.2.0,>=0.9.1 in /opt/conda/lib/python3.11/site-packages (from spacy) (1.1.3)\n",
      "Requirement already satisfied: srsly<3.0.0,>=2.4.3 in /opt/conda/lib/python3.11/site-packages (from spacy) (2.5.1)\n",
      "Requirement already satisfied: catalogue<2.1.0,>=2.0.6 in /opt/conda/lib/python3.11/site-packages (from spacy) (2.0.10)\n",
      "Requirement already satisfied: weasel<0.5.0,>=0.1.0 in /opt/conda/lib/python3.11/site-packages (from spacy) (0.4.1)\n",
      "Requirement already satisfied: typer<1.0.0,>=0.3.0 in /opt/conda/lib/python3.11/site-packages (from spacy) (0.16.0)\n",
      "Requirement already satisfied: tqdm<5.0.0,>=4.38.0 in /opt/conda/lib/python3.11/site-packages (from spacy) (4.66.5)\n",
      "Requirement already satisfied: numpy>=1.19.0 in /opt/conda/lib/python3.11/site-packages (from spacy) (2.0.2)\n",
      "Requirement already satisfied: requests<3.0.0,>=2.13.0 in /opt/conda/lib/python3.11/site-packages (from spacy) (2.32.3)\n",
      "Requirement already satisfied: pydantic!=1.8,!=1.8.1,<3.0.0,>=1.7.4 in /opt/conda/lib/python3.11/site-packages (from spacy) (2.8.2)\n",
      "Requirement already satisfied: jinja2 in /opt/conda/lib/python3.11/site-packages (from spacy) (3.1.4)\n",
      "Requirement already satisfied: setuptools in /opt/conda/lib/python3.11/site-packages (from spacy) (73.0.1)\n",
      "Requirement already satisfied: packaging>=20.0 in /opt/conda/lib/python3.11/site-packages (from spacy) (24.1)\n",
      "Requirement already satisfied: langcodes<4.0.0,>=3.2.0 in /opt/conda/lib/python3.11/site-packages (from spacy) (3.5.0)\n",
      "Requirement already satisfied: language-data>=1.2 in /opt/conda/lib/python3.11/site-packages (from langcodes<4.0.0,>=3.2.0->spacy) (1.3.0)\n",
      "Requirement already satisfied: annotated-types>=0.4.0 in /opt/conda/lib/python3.11/site-packages (from pydantic!=1.8,!=1.8.1,<3.0.0,>=1.7.4->spacy) (0.7.0)\n",
      "Requirement already satisfied: pydantic-core==2.20.1 in /opt/conda/lib/python3.11/site-packages (from pydantic!=1.8,!=1.8.1,<3.0.0,>=1.7.4->spacy) (2.20.1)\n",
      "Requirement already satisfied: typing-extensions>=4.6.1 in /opt/conda/lib/python3.11/site-packages (from pydantic!=1.8,!=1.8.1,<3.0.0,>=1.7.4->spacy) (4.12.2)\n",
      "Requirement already satisfied: charset-normalizer<4,>=2 in /opt/conda/lib/python3.11/site-packages (from requests<3.0.0,>=2.13.0->spacy) (3.3.2)\n",
      "Requirement already satisfied: idna<4,>=2.5 in /opt/conda/lib/python3.11/site-packages (from requests<3.0.0,>=2.13.0->spacy) (3.8)\n",
      "Requirement already satisfied: urllib3<3,>=1.21.1 in /opt/conda/lib/python3.11/site-packages (from requests<3.0.0,>=2.13.0->spacy) (2.2.2)\n",
      "Requirement already satisfied: certifi>=2017.4.17 in /opt/conda/lib/python3.11/site-packages (from requests<3.0.0,>=2.13.0->spacy) (2024.8.30)\n",
      "Requirement already satisfied: blis<1.4.0,>=1.3.0 in /opt/conda/lib/python3.11/site-packages (from thinc<8.4.0,>=8.3.4->spacy) (1.3.0)\n",
      "Requirement already satisfied: confection<1.0.0,>=0.0.1 in /opt/conda/lib/python3.11/site-packages (from thinc<8.4.0,>=8.3.4->spacy) (0.1.5)\n",
      "Requirement already satisfied: click>=8.0.0 in /opt/conda/lib/python3.11/site-packages (from typer<1.0.0,>=0.3.0->spacy) (8.1.7)\n",
      "Requirement already satisfied: shellingham>=1.3.0 in /opt/conda/lib/python3.11/site-packages (from typer<1.0.0,>=0.3.0->spacy) (1.5.4)\n",
      "Requirement already satisfied: rich>=10.11.0 in /opt/conda/lib/python3.11/site-packages (from typer<1.0.0,>=0.3.0->spacy) (14.0.0)\n",
      "Requirement already satisfied: cloudpathlib<1.0.0,>=0.7.0 in /opt/conda/lib/python3.11/site-packages (from weasel<0.5.0,>=0.1.0->spacy) (0.21.1)\n",
      "Requirement already satisfied: smart-open<8.0.0,>=5.2.1 in /opt/conda/lib/python3.11/site-packages (from weasel<0.5.0,>=0.1.0->spacy) (7.1.0)\n",
      "Requirement already satisfied: MarkupSafe>=2.0 in /opt/conda/lib/python3.11/site-packages (from jinja2->spacy) (2.1.5)\n",
      "Requirement already satisfied: marisa-trie>=1.1.0 in /opt/conda/lib/python3.11/site-packages (from language-data>=1.2->langcodes<4.0.0,>=3.2.0->spacy) (1.2.1)\n",
      "Requirement already satisfied: markdown-it-py>=2.2.0 in /opt/conda/lib/python3.11/site-packages (from rich>=10.11.0->typer<1.0.0,>=0.3.0->spacy) (3.0.0)\n",
      "Requirement already satisfied: pygments<3.0.0,>=2.13.0 in /opt/conda/lib/python3.11/site-packages (from rich>=10.11.0->typer<1.0.0,>=0.3.0->spacy) (2.18.0)\n",
      "Requirement already satisfied: wrapt in /opt/conda/lib/python3.11/site-packages (from smart-open<8.0.0,>=5.2.1->weasel<0.5.0,>=0.1.0->spacy) (1.17.2)\n",
      "Requirement already satisfied: mdurl~=0.1 in /opt/conda/lib/python3.11/site-packages (from markdown-it-py>=2.2.0->rich>=10.11.0->typer<1.0.0,>=0.3.0->spacy) (0.1.2)\n",
      "Collecting en-core-web-md==3.8.0\n",
      "  Downloading https://github.com/explosion/spacy-models/releases/download/en_core_web_md-3.8.0/en_core_web_md-3.8.0-py3-none-any.whl (33.5 MB)\n",
      "\u001b[2K     \u001b[90m━━━━━━━━━━━━━━━━━━━━━━━━━━━━━━━━━━━━━━━\u001b[0m \u001b[32m33.5/33.5 MB\u001b[0m \u001b[31m322.9 MB/s\u001b[0m eta \u001b[36m0:00:00\u001b[0m\n",
      "\u001b[?25h\u001b[38;5;2m✔ Download and installation successful\u001b[0m\n",
      "You can now load the package via spacy.load('en_core_web_md')\n",
      "Collecting pl-core-news-md==3.8.0\n",
      "  Downloading https://github.com/explosion/spacy-models/releases/download/pl_core_news_md-3.8.0/pl_core_news_md-3.8.0-py3-none-any.whl (49.5 MB)\n",
      "\u001b[2K     \u001b[90m━━━━━━━━━━━━━━━━━━━━━━━━━━━━━━━━━━━━━━━\u001b[0m \u001b[32m49.5/49.5 MB\u001b[0m \u001b[31m258.7 MB/s\u001b[0m eta \u001b[36m0:00:00\u001b[0m00:01\u001b[0m\n",
      "\u001b[?25h\u001b[38;5;2m✔ Download and installation successful\u001b[0m\n",
      "You can now load the package via spacy.load('pl_core_news_md')\n"
     ]
    }
   ],
   "source": [
    "!pip install spacy\n",
    "!python -m spacy download en_core_web_md\n",
    "!python -m spacy download pl_core_news_md"
   ]
  },
  {
   "cell_type": "code",
   "execution_count": 2,
   "id": "4d5a2c67-f687-4f5c-aa8d-ee05758c9a6c",
   "metadata": {
    "scrolled": true
   },
   "outputs": [
    {
     "name": "stdout",
     "output_type": "stream",
     "text": [
      "Polish tokens: 39653, English tokens: 56794\n",
      "- Arthur Conan Doyle  Znak czterech tłum.\n",
      "- Wacław Widigier  ISBN 978-83-288-7054-3     I.\n",
      "- Umiejętność dedukcji  Sherlock Holmes zdjął z rogu kominka flaszeczkę, po czym z safianowego futerału wyjął strzykawkę.\n",
      "- Długimi, białymi, nerwowymi palcami osadził cienką igłę i zakasał lewy mankiet koszuli.\n",
      "- Wzrok jego na chwilę spoczął w zadumie na żylastym przedramieniu pocętkowanym licznymi ukłuciami.\n",
      "- W końcu wbił igłę w ciało, nacisnął tłok strzykawki i z głębokim westchnieniem zadowolenia z powrotem opadł na wyściełany aksamitem fotel.\n",
      "- Od wielu miesięcy trzy razy dziennie byłem świadkiem tego zabiegu, ale nigdy nie mogłem się z nim pogodzić.\n",
      "- Przeciwnie, z każdym dniem widok ten drażnił mnie coraz bardziej, a sumienie wyrzucało mi brak odwagi przeciwdziałania.\n",
      "- Codziennie niemal obiecywałem sobie nie dopuścić więcej do czegoś podobnego, ale chłodne, swobodne obejście przyjaciela miało w sobie coś nieokreślonego, co nie pozwalało na zbytnią poufałość.\n",
      "- Nauczyłem się cenić jego wielkie zdolności i niepospolite zalety, onieśmielał mnie niekiedy wręcz jego ton despotyczny, wyniosły, i nie chciałem mu się narażać.\n",
      "- ﻿The Project Gutenberg eBook of The Sign of the Four      This ebook is for the use of anyone anywhere in the United States and most other parts of the world at no cost and with almost no restrictions whatsoever.\n",
      "- You may copy it, give it away or re-use it under the terms of the Project Gutenberg License included with this ebook or online at www.gutenberg.org.\n",
      "- If you are not located in the United States, you will have to check the laws of the country where you are located before using this eBook.\n",
      "- Title: The Sign of the Four  Author: Arthur Conan Doyle  Release date: March 1, 2000\n",
      "- [eBook #2097]                 Most recently updated:\n",
      "- December 6, 2024  Language: English    *** START OF THE PROJECT GUTENBERG EBOOK THE SIGN OF THE FOUR ***     The Sign of the Four  by Arthur Conan Doyle     Contents      Chapter I.\n",
      "- The Science of Deduction    Chapter II.\n",
      "- The Statement of the Case    Chapter III.\n",
      "- In Quest of a Solution    Chapter IV.\n",
      "- The Story of the Bald-Headed Man    Chapter V.\n"
     ]
    }
   ],
   "source": [
    "import spacy\n",
    "\n",
    "# load models\n",
    "nlp_en = spacy.load(\"en_core_web_md\")\n",
    "nlp_pl = spacy.load(\"pl_core_news_md\")\n",
    "\n",
    "# load text files\n",
    "with open(\"doyle-znak-czterech.txt\", \"r\", encoding=\"utf-8\") as f:\n",
    "    pl_text = f.read()\n",
    "with open(\"the_sign_of_the_four.txt\", \"r\", encoding=\"utf-8\") as f:\n",
    "    en_text = f.read()\n",
    "\n",
    "#remove end token\n",
    "pl_text = pl_text.replace(\"\\n\", \" \")\n",
    "en_text = en_text.replace(\"\\n\", \" \")\n",
    "\n",
    "# process\n",
    "doc_pl = nlp_pl(pl_text)\n",
    "doc_en = nlp_en(en_text)\n",
    "\n",
    "print(f\"Polish tokens: {len(doc_pl)}, English tokens: {len(doc_en)}\")\n",
    "\n",
    "for sentence in list(doc_pl.sents)[:10]:\n",
    "    print(\"-\", sentence.text.strip())\n",
    "\n",
    "for sentence in list(doc_en.sents)[:10]:\n",
    "    print(\"-\", sentence.text.strip())"
   ]
  },
  {
   "cell_type": "code",
   "execution_count": 3,
   "id": "99ee7756-5a43-45b4-a8a9-24b8564b1ee7",
   "metadata": {},
   "outputs": [
    {
     "name": "stdout",
     "output_type": "stream",
     "text": [
      "Top 10 Polish nouns: [('pan', 238), ('człowiek', 104), ('sprawa', 89), ('skarb', 86), ('pani', 80), ('chwila', 63), ('czas', 53), ('ręka', 50), ('noga', 48), ('raz', 47)]\n",
      "Top 10 English nouns: [('man', 175), ('work', 110), ('hand', 86), ('night', 81), ('time', 78), ('treasure', 75), ('way', 70), ('day', 57), ('case', 56), ('room', 52)]\n"
     ]
    }
   ],
   "source": [
    "from collections import Counter\n",
    "\n",
    "def get_nouns(doc):\n",
    "    return [token.lemma_ for token in doc if token.pos_ == \"NOUN\"]\n",
    "\n",
    "pl_nouns = get_nouns(doc_pl)\n",
    "en_nouns = get_nouns(doc_en)\n",
    "\n",
    "print(\"Top 10 Polish nouns:\", Counter(pl_nouns).most_common(10))\n",
    "print(\"Top 10 English nouns:\", Counter(en_nouns).most_common(10))"
   ]
  },
  {
   "cell_type": "code",
   "execution_count": 10,
   "id": "af9e1078-c7a6-49c4-86bd-281d4762099b",
   "metadata": {},
   "outputs": [
    {
     "name": "stdout",
     "output_type": "stream",
     "text": [
      "[('copy', 'you'), ('have', 'you'), ('start', 'Language'), ('give', 'Holmes'), ('take', 'Holmes')]\n"
     ]
    }
   ],
   "source": [
    "verb_subj = []\n",
    "for token in doc_en:\n",
    "    if token.pos_ == \"VERB\":\n",
    "        for child in token.children:\n",
    "            if child.dep_ == \"nsubj\":\n",
    "                verb_subj.append((token.lemma_, child.lemma_))\n",
    "print (verb_subj[:5])"
   ]
  },
  {
   "cell_type": "code",
   "execution_count": 11,
   "id": "afe1df61-47fd-4bc1-8e89-6cf2b22b31c4",
   "metadata": {},
   "outputs": [
    {
     "name": "stdout",
     "output_type": "stream",
     "text": [
      "[('copy', 'you'), ('have', 'you'), ('start', 'Language'), ('give', 'Holmes'), ('take', 'Holmes')]\n"
     ]
    }
   ],
   "source": [
    "verb_subj_pl = []\n",
    "for token in doc_pl:\n",
    "    if token.pos_ == \"VERB\":\n",
    "        for child in token.children:\n",
    "            if child.dep_ == \"nsubj\":\n",
    "                verb_subj_pl.append((token.lemma_, child.lemma_))\n",
    "print (verb_subj[:5])"
   ]
  },
  {
   "cell_type": "code",
   "execution_count": 12,
   "id": "682571b5-8fda-43c8-bd02-bcf25d6f2960",
   "metadata": {},
   "outputs": [
    {
     "name": "stdout",
     "output_type": "stream",
     "text": [
      "[('copy', 'it'), ('give', 'it'), ('use', 'it'), ('check', 'law'), ('use', 'eBook')]\n"
     ]
    }
   ],
   "source": [
    "verb_obj = []\n",
    "for token in doc_en:\n",
    "    if token.pos_ == \"VERB\":\n",
    "        for child in token.children:\n",
    "            if child.dep_ == \"dobj\":\n",
    "                verb_obj.append((token.lemma_, child.lemma_))\n",
    "print (verb_obj[:5])"
   ]
  },
  {
   "cell_type": "code",
   "execution_count": 13,
   "id": "de4b886f-3977-452e-b18f-b8bde9aad037",
   "metadata": {},
   "outputs": [
    {
     "name": "stdout",
     "output_type": "stream",
     "text": [
      "[('copy', 'it'), ('give', 'it'), ('use', 'it'), ('check', 'law'), ('use', 'eBook')]\n"
     ]
    }
   ],
   "source": [
    "verb_obj_pl = []\n",
    "for token in doc_pl:\n",
    "    if token.pos_ == \"VERB\":\n",
    "        for child in token.children:\n",
    "            if child.dep_ == \"obj\":\n",
    "                verb_obj_pl.append((token.lemma_, child.lemma_))\n",
    "print (verb_obj[:5])"
   ]
  },
  {
   "cell_type": "code",
   "execution_count": 14,
   "id": "c7906a75-a228-4764-a1a3-1451b7d9c5c2",
   "metadata": {},
   "outputs": [
    {
     "name": "stdout",
     "output_type": "stream",
     "text": [
      "Five most frequent transitive verbs: [('have', 224), ('take', 97), ('see', 76), ('give', 66), ('make', 65)] \n",
      "\n",
      "Ten most common subjects of say: [('he', 77), ('Holmes', 44), ('I', 37), ('she', 14), ('you', 13), ('Jones', 10), ('i.', 5), ('Sholto', 5), ('be', 5), ('companion', 4)] \n",
      "\n",
      "Ten actions does the main protagonist ('Holmes') perform the most [('say', 44), ('take', 3), ('sit', 3), ('give', 2), ('return', 2), ('glance', 2), ('look', 2), ('smile', 2), ('place', 1), ('rub', 1)] \n",
      "\n",
      "Ten actions does the main protagonist ('Holmes') undergo the most: [('ask', 3), ('remark', 2), ('cry', 2), ('growl', 1), ('exclaim', 1)] \n",
      "\n",
      "Jones' actions: [('say', 10), ('get', 2), ('go', 1), ('fix', 1), ('happen', 1)] \n",
      "\n",
      "Actions on detectives: [('snap', 1)] \n",
      "\n"
     ]
    }
   ],
   "source": [
    "# ...Most...\n",
    "# freq transitive verbs\n",
    "transitive_verbs = [verb for verb, obj in verb_obj]\n",
    "print(\"Five most frequent transitive verbs:\", Counter(transitive_verbs).most_common(5), \"\\n\")\n",
    "\n",
    "# common subjects of say\n",
    "say_subjects = [subj for verb, subj in verb_subj if verb == \"say\"]\n",
    "print(\"Ten most common subjects of say:\", Counter(say_subjects).most_common(10), \"\\n\")\n",
    "\n",
    "# actions Holmes performs\n",
    "h_actions = [verb for verb, subj in verb_subj if subj == \"Holmes\"]\n",
    "print(\"Ten actions does the main protagonist ('Holmes') perform the most\", Counter(h_actions).most_common(10), \"\\n\")\n",
    "\n",
    "# actions done to Holmes\n",
    "h_undergoes = [verb for verb, obj in verb_obj if obj == \"Holmes\"]\n",
    "print(\"Ten actions does the main protagonist ('Holmes') undergo the most:\", Counter(h_undergoes).most_common(10), \"\\n\")\n",
    "\n",
    "# what detectives do\n",
    "detective_actions = [verb for verb, subj in verb_subj if \"Jones\" in subj]\n",
    "print(\"Jones' actions:\", Counter(detective_actions).most_common(5), \"\\n\")\n",
    "\n",
    "# What happens to detectives\n",
    "detective_undergoes = [verb for verb, obj in verb_obj if \"detective\" in obj]\n",
    "print(\"Actions on detectives:\", Counter(detective_undergoes).most_common(5), \"\\n\")"
   ]
  },
  {
   "cell_type": "code",
   "execution_count": 15,
   "id": "9bcf1f29-fa75-4f27-9f7c-68b6bc1753e7",
   "metadata": {},
   "outputs": [
    {
     "name": "stdout",
     "output_type": "stream",
     "text": [
      "[('eng', 221, 'copy', 'active'), ('eng', 230, 'give', 'active'), ('eng', 246, 're', 'active'), ('eng', 248, '-', 'active'), ('eng', 249, 'use', 'active')]\n"
     ]
    }
   ],
   "source": [
    "def detect_voice_en(doc):\n",
    "    voice_info = []\n",
    "    for token in doc:\n",
    "        if token.pos_ == \"VERB\":\n",
    "            voice = \"active\"\n",
    "            for child in token.children:\n",
    "                if child.pos_ == \"AUX\" and child.lemma_ == \"be\" and token.tag_ == \"VBN\":\n",
    "                    voice = \"passive\"\n",
    "                    break\n",
    "            voice_info.append((\"eng\", token.idx, token.lemma_, voice))\n",
    "    return voice_info\n",
    "\n",
    "en_voice = detect_voice_en(doc_en)\n",
    "\n",
    "print(en_voice[:5])"
   ]
  },
  {
   "cell_type": "code",
   "execution_count": 18,
   "id": "432ac48c-4a2c-464d-8a40-b05ae33cdc2e",
   "metadata": {},
   "outputs": [
    {
     "name": "stdout",
     "output_type": "stream",
     "text": [
      "[('pl', 125, 'zdjąć', 'active'), ('pl', 189, 'wyjąć', 'active'), ('pl', 243, 'osadzić', 'active'), ('pl', 265, 'zakasać', 'active'), ('pl', 316, 'spocząć', 'active')]\n"
     ]
    }
   ],
   "source": [
    "def detect_voice_pl(doc):\n",
    "    voice_info = []\n",
    "    for token in doc:\n",
    "        if token.pos_ == \"VERB\":\n",
    "            voice = \"active\"\n",
    "            for aux in token.children:\n",
    "                if aux.pos_ == \"AUX\" and aux.lemma_ in {\"być\", \"zostać\"}:\n",
    "                    voice = \"passive\"\n",
    "                    break\n",
    "            for child in token.children:\n",
    "                if child.text.lower() == \"się\" and child.dep_ == \"expl\":\n",
    "                    voice = \"passive\"\n",
    "                    break\n",
    "            voice_info.append((\"pl\", token.idx, token.lemma_, voice))\n",
    "    return voice_info\n",
    "\n",
    "pl_voice = detect_voice_pl(doc_pl)\n",
    "\n",
    "print(pl_voice[:5])"
   ]
  },
  {
   "cell_type": "code",
   "execution_count": 19,
   "id": "94d6a2ee-8962-41a7-92f8-c39f43a494c0",
   "metadata": {},
   "outputs": [
    {
     "name": "stdout",
     "output_type": "stream",
     "text": [
      "Language  Voice  \n",
      "eng       active     5675\n",
      "          passive     374\n",
      "pl        active     5425\n",
      "          passive      89\n",
      "dtype: int64\n"
     ]
    }
   ],
   "source": [
    "import pandas as pd\n",
    "\n",
    "df = pd.DataFrame(en_voice + pl_voice, columns=[\"Language\", \"Position\", \"Lemma\", \"Voice\"])\n",
    "print(df.groupby([\"Language\", \"Voice\"]).size())"
   ]
  },
  {
   "cell_type": "code",
   "execution_count": 20,
   "id": "97f189bf-7893-453d-8599-5af8fdf1670d",
   "metadata": {},
   "outputs": [
    {
     "name": "stdout",
     "output_type": "stream",
     "text": [
      "Language  Lemma\n",
      "eng       say      268\n",
      "          have     257\n",
      "pl        mieć     231\n",
      "eng       see      149\n",
      "pl        móc      149\n",
      "eng       be       142\n",
      "          come     138\n",
      "          know     121\n",
      "pl        być      117\n",
      "          rzec     110\n",
      "dtype: int64\n"
     ]
    }
   ],
   "source": [
    "print(df.groupby([\"Language\", \"Lemma\"]).size().sort_values(ascending=False).head(10))"
   ]
  },
  {
   "cell_type": "code",
   "execution_count": 22,
   "id": "118406a7-879a-48ae-b0a6-6819bfb70673",
   "metadata": {},
   "outputs": [
    {
     "data": {
      "image/png": "[encoded data removed]",
      "text/plain": [
       "<Figure size 1000x300 with 1 Axes>"
      ]
     },
     "metadata": {},
     "output_type": "display_data"
    },
    {
     "data": {
      "image/png": "[encoded data removed]",
      "text/plain": [
       "<Figure size 1000x300 with 1 Axes>"
      ]
     },
     "metadata": {},
     "output_type": "display_data"
    }
   ],
   "source": [
    "import matplotlib.pyplot as plt\n",
    "\n",
    "# passive ratio per lemma\n",
    "passive_ratio = df.groupby([\"Language\", \"Lemma\"])[\"Voice\"].apply(\n",
    "    lambda x: (x == \"passive\").mean() ).reset_index(name=\"PassiveRatio\")\n",
    "\n",
    "# total occurrences of each lemma\n",
    "lemma_counts = df.groupby([\"Language\", \"Lemma\"]).size().reset_index(name=\"Count\")\n",
    "\n",
    "# okay, so this line filters rare pairs that would have 1 ratio because they appear only once/twice\n",
    "frequent_lemmas = lemma_counts[lemma_counts[\"Count\"] >= 7]\n",
    "# 7 was threshold where last 1.0 ratio word disappeared- indict\n",
    "# it is possible that in the context of the novel it was used only this way, as in the legal context\n",
    "# but I removed it as statistical outliner\n",
    "passive_ratio = passive_ratio.merge(frequent_lemmas, on=[\"Language\", \"Lemma\"])\n",
    "\n",
    "# plot\n",
    "for lang in [\"eng\", \"pl\"]:\n",
    "    top10 = passive_ratio[passive_ratio[\"Language\"] == lang] \\\n",
    "        .sort_values(\"PassiveRatio\", ascending=False) \\\n",
    "        .head(10)\n",
    "\n",
    "    plt.figure(figsize=(10, 3))\n",
    "    plt.barh(top10[\"Lemma\"], top10[\"PassiveRatio\"], color=\"thistle\")\n",
    "    plt.xlabel(\"Passive Ratio\")\n",
    "    plt.title(f\"10 most passive verbs in {lang}\")\n",
    "    plt.xlim(0, 1)\n",
    "    plt.show()\n"
   ]
  },
  {
   "cell_type": "code",
   "execution_count": null,
   "id": "09e4d237-378e-457a-b277-83a0e5e5c565",
   "metadata": {},
   "outputs": [],
   "source": []
  }
 ],
 "metadata": {
  "kernelspec": {
   "display_name": "Python 3 (ipykernel)",
   "language": "python",
   "name": "python3"
  },
  "language_info": {
   "codemirror_mode": {
    "name": "ipython",
    "version": 3
   },
   "file_extension": ".py",
   "mimetype": "text/x-python",
   "name": "python",
   "nbconvert_exporter": "python",
   "pygments_lexer": "ipython3",
   "version": "3.12.9"
  }
 },
 "nbformat": 4,
 "nbformat_minor": 5
}
